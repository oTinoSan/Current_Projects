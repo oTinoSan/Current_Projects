{
 "cells": [
  {
   "cell_type": "markdown",
   "metadata": {},
   "source": [
    "#  GIS Points 1 TEST 1 2024 Practice\n",
    "## Name: Santino Sini\n",
    "## Date: 03062024\n",
    "## Course: CSC305/405\n",
    "## Run the given code when requested, provide code when requested in the code cell, and answer questions inserting response\n",
    "<font color='red'> using red font </font>\n",
    "replacing\n",
    " <font color='red'> _______ ________ _________ _______________ </font>"
   ]
  },
  {
   "cell_type": "markdown",
   "metadata": {},
   "source": [
    "# GIS Points 1 \n",
    "\n",
    "# Outcomes: \n",
    "* Know how to Identify files in a hierarchical directory\n",
    "* Loading single files into \"pandas\" dataFrame\n",
    "* Saving \"pandas\" dataframe as a csv file.\n",
    "\n",
    "# Available Information about Data:\n",
    "* Process trajectory data recorded as GPS trace\n",
    "* Real data sets recorded by people carrying GPS enabled devices\n",
    "* Data available over multiple years for people traveling in different modes like walking, riding bus etc.\n",
    "* Most important part of data is latitude, longitude sequence with timestamp for each pair (forms trajectory data)\n",
    "* Several interesting problems in Activity Monitoring are naturally related to such data sets  \n",
    "* Data taken from the freely available Microsoft Geolife data set https://www.microsoft.com/en-us/download/details.aspx?id=52367 \n",
    "* A smaller data set named \"MysteriousData\" is provided along with this notebook\n",
    "\n"
   ]
  },
  {
   "cell_type": "markdown",
   "metadata": {},
   "source": [
    "# Task 1 - Initial Code: Importing Libraries\n",
    "\n",
    "<font color='blue'>\n",
    "    \n",
    "#### A) General Information: \n",
    "* Very often we need to import  additional programs that are organized into various libraries.\n",
    "\n",
    "#### B) Specific Information:\n",
    "* \"pandas\" is an example of such library in Python environment such as the Jupyter notebook\n",
    "* The \"pandas\" library is a set of programs for efficient processing of big data\n",
    "\n",
    "#### C) Run the given code: </font>"
   ]
  },
  {
   "cell_type": "code",
   "execution_count": 1,
   "metadata": {},
   "outputs": [],
   "source": [
    "import pandas as pd  #imports the \"pandas\" library"
   ]
  },
  {
   "cell_type": "markdown",
   "metadata": {},
   "source": [
    "#### D) Output Understanding:\n",
    "\n",
    "1.1 Why there is no output?\n",
    "\n",
    "<font color='red'>This is an import statement, which simply adds the library pandas to the program for access. Import statements do not have an output</font>\n",
    "_________________________________\n",
    "\n",
    "#### E) Concept Understanding:\n",
    "\n",
    "1.2 Why do we need extra libraries?\n",
    "\n",
    "<font color='red'> These libraries are not included in the downloaded version of Python out of the box, so they must be pip installed. </font>\n",
    "_________________________________\n",
    "\n",
    "1.3 Why do we need the \"pandas\" library?\n",
    "\n",
    "<font color='red'> We need pandas because it allows us to create and manipulate data frames.</font>\n",
    "_________________________________\n",
    "\n",
    "#### F) Code Understanding: \n",
    "\n",
    "* We can also import \"pandas\" library as:\n",
    "* import pandas\n",
    "\n",
    "1.4 Why do we prefer to use the optional part \"as pd\"\n",
    "\n",
    "<font color='red'>Becuase it is easier to call pandas as 'pd.' than as 'pandas.'.</font>\n",
    "_________________________________\n",
    "\n",
    "#### G) Apply in typical situations:\n",
    "\n",
    "* Very often we also import the \"os\" library to make file access and manipulation easier\n",
    "\n",
    "1.5 Write the code in the next cell to import \"os\" library for operating systems tasks, and then run the code.\n",
    "\n",
    "<font color='red'> import os </font>"
   ]
  },
  {
   "cell_type": "code",
   "execution_count": 2,
   "metadata": {},
   "outputs": [],
   "source": [
    "import os\n",
    "# Write the code to import \"numpy\" library \n",
    "import numpy as np"
   ]
  },
  {
   "cell_type": "markdown",
   "metadata": {},
   "source": [
    "###### #### H) Generalization\n",
    "\n",
    "1.6. Does it work? Do we need to rename the os library? Why?\n",
    "\n",
    "<font color='red'> Yes. No, because os is a short enough name already.</font>\n",
    "_________________________________________\n"
   ]
  },
  {
   "cell_type": "markdown",
   "metadata": {},
   "source": [
    "# Task 2:  Identifying a File in a Hierarchical Directory\n",
    "\n",
    "<font color='blue'>\n",
    "    \n",
    "#### A) General Information: \n",
    "* The directory structure is in the form of a tree as you know from your experience in the windows environment.\n",
    "* To uniquely identify a file, we provide a path that is the concatenation of all tree node names leading to the file.\n",
    "\n",
    "\n",
    "* \n",
    "2.0. Questionjs\n",
    "* Investigate \"MysteriousData\" directory and draw this directory hierarchy on a piece of paper or electronic document.\n",
    "* Choose the first file from two csv files for user 121\n",
    "* Store file name as string \n",
    "* Construct the full path to this file in the directory hierarchy as a string \n",
    "* Specify file identification as a string by concatenating the path with file name\n",
    "* print file identification to check if it is correct.\n",
    "\n",
    "#### C) Create the given code: </font>"
   ]
  },
  {
   "cell_type": "code",
   "execution_count": 15,
   "metadata": {},
   "outputs": [
    {
     "name": "stdout",
     "output_type": "stream",
     "text": [
      "./MysteriousData/Data/121/Trajectory/20091005102823.csv\n"
     ]
    }
   ],
   "source": [
    "# How to reference a file - by a path concatenated with file name - we call it File Identification\n",
    "\n",
    "fileName = '20091005102823.csv'\n",
    "path = './MysteriousData/121/Trajectory/'\n",
    "FileIdentification1 = os.path.join(path, fileName)\n",
    "print(FileIdentification1)\n"
   ]
  },
  {
   "cell_type": "markdown",
   "metadata": {},
   "source": [
    "#### D) Output Understanding:\n",
    "\n",
    "2.1. Was the file identificator for the first file  printed correctly ?\n",
    "\n",
    "<font color='red'> Yes </font>\n",
    "\n",
    "#### E) Concept Understanding:\n",
    "\n",
    "2.2. Using the right click, invoke the file properties for this file in the Windows Explorer directory and file manager. \n",
    "* Select the security tab, and copy the object name and paste below.\n",
    "\n",
    "<font color='red'>  /home/santino/Documents/Current_Projects/classes/data_analytics/jupyter_notebooks/MysteriousData/121/Trajectory </font>\n",
    "_________________________________\n",
    "\n",
    "2.3. Is the object name different than our file identifier? Why?  \n",
    "\n",
    "<font color='red'> Yes, because the './' places the file in the current directory, which we are in. The earlier path is not required.</font>\n",
    "_________________________________\n",
    "\n",
    "2.4. Our current directory contains folder \"MysteriousData\", right? Are there any folder repetitions or other discrepancies in object name?\n",
    "\n",
    "<font color='red'> No. </font>\n",
    "_________________________________\n",
    "\n",
    "#### F) Code Understanding:\n",
    "_______ ________ _________ _______________\n",
    "2.5. What operator was used to create the string for File Identification from partial path and file name ? \n",
    "\n",
    "<font color='red'> you can use the '+' operator, but I use os.path.join() </font>\n",
    "_________________________________\n",
    "\n",
    "\n",
    "\n",
    "2.6. What is the name of the second file of User121?\n",
    "\n",
    "<font color='red'> 20091011115337.csv </font>\n",
    "_________________________________\n",
    "\n",
    "2.7. What is the partial path for the second file?\n",
    "\n",
    "<font color='red'>  ./MysteriousData/121/Trajectory/ </font>\n",
    "_________________________________\n",
    "\n",
    "2.8. What is the identifier for the second file\n",
    "\n",
    "<font color='red'> ./MysteriousData/121/Trajectory/20091011115337.csv  </font>\n",
    "_________________________________\n",
    "\n",
    "#### G) Apply in typical situations:\n",
    "\n",
    "2.9. Write the code to create the second file identification variable \n",
    "* call this variable FileIdentification2\n",
    "* print the result\n",
    "\n",
    "<font color='red'> \n",
    "fileName2 = '20091011115337.csv'\n",
    "path = './MysteriousData/121/Trajectory/'\n",
    "FileIdentification2 = os.path.join(path, fileName)\n",
    "print(FileIdentification2) </font>"
   ]
  },
  {
   "cell_type": "code",
   "execution_count": 16,
   "metadata": {},
   "outputs": [
    {
     "name": "stdout",
     "output_type": "stream",
     "text": [
      "./MysteriousData/121/Trajectory/20091005102823.csv\n"
     ]
    }
   ],
   "source": [
    "# How to reference a file - by a path concatenated with file name that we call it File Identification\n",
    "\n",
    "fileName2 = '20091011115337.csv'\n",
    "path = './MysteriousData/121/Trajectory/'\n",
    "FileIdentification2 = os.path.join(path, fileName)\n",
    "print(FileIdentification2)"
   ]
  },
  {
   "cell_type": "markdown",
   "metadata": {},
   "source": [
    "#### D) Output Understanding:\n",
    "\n",
    "2.10. Was the file identificator for the second file  printed correctly ?\n",
    "\n",
    "<font color='red'> Yes. </font>\n",
    "\n",
    "\n",
    "#### E) Concept Understanding:\n",
    "\n",
    "2.11. Using the right click, invoke the file properties for this file in the Windows Explorer directory and file manager. \n",
    "* Select the security tab, and copy the Object name and paste below.\n",
    "\n",
    "<font color='red'>  _______ ________ _________ _______________ </font>\n",
    "_________________________________\n",
    "\n",
    "2.12. What is the name of the second file?\n",
    "\n",
    "<font color='red'> _______ ________ _________ _______________ </font>\n",
    "_________________________________\n",
    "\n",
    "2.13. What is the partial path for the second file?\n",
    "\n",
    "<font color='red'>  _______ ________ _________ _______________ </font>\n",
    "_________________________________\n",
    "\n",
    "2.14. What is the File Identifier for the second file\n",
    "\n",
    "<font color='red'> _______ ________ _________ _______________ </font>\n",
    "\n",
    "2.15. Our current directory is containg folder \"MisteriousDataFile\", right?  Are there any folder repetitions in object name or any other discrepancies? \n",
    "\n",
    "<font color='red'> No. There are no folder repetitions other than possible repetitions in the other folder,  </font>\n",
    "_________________________________\n"
   ]
  },
  {
   "cell_type": "markdown",
   "metadata": {},
   "source": [
    "# Task 3: Reading csv files into Tables (Pandas Dataframes) with Fixed Path\n",
    "\n",
    "\n",
    "<font color='blue'>\n",
    "    \n",
    "#### A) General Information: \n",
    "* Many libraries have functions that we can use during  code writing.\n",
    "\n",
    "#### B) Specific Information: \n",
    "* One important function in the \"pandas\" libary is \"read_csv()\"\n",
    "* This function allows us to read a text file and load it into a \"pandas\" dataframe.\n",
    "* A dataframe has a tabular structure and is a fundamental \"pandas\" object.\n",
    "* Use the File Identification from part 2 as an argument for pandas 'read_csv' command\n",
    "* Return resulting dataframe\n",
    "\n",
    "#### C) Run the given code:</font>"
   ]
  },
  {
   "cell_type": "code",
   "execution_count": 5,
   "metadata": {
    "scrolled": true
   },
   "outputs": [],
   "source": [
    "# Load data file for a specific user and display a few rows \n",
    "# ???"
   ]
  },
  {
   "cell_type": "markdown",
   "metadata": {},
   "source": [
    "#### D) Output Understanding:\n",
    "\n",
    "3.1. What are column names?\n",
    "\n",
    "<font color='red'> _______ ________ _________ _______________ </font>\n",
    "_________________________________\n",
    "\n",
    "3.2. How many rows are reported?\n",
    "\n",
    "<font color='red'> _______ ________ _________ _______________ </font>\n",
    "_________________________________\n",
    "\n",
    "#### E) Concept Understanding:\n",
    "\n",
    "3.3. Why is the print function not used to print the dataframe?\n",
    "\n",
    "<font color='red'> _______ ________ _________ _______________ </font>\n",
    "_________________________________\n",
    "\n",
    "#### F) Code Understanding: \n",
    "\n",
    "3.4. What \"pandas\" operator was used to load a file into dataframe?\n",
    "\n",
    "<font color='red'> _______ ________ _________ _______________ </font>\n",
    "_________________________________\n",
    "\n",
    "#### G) Write a code/Apply in typical situations:\n",
    "3.5 Write the code to load the second file of user 121 into a new dataframe called Points_User121_File2 and display it\n",
    "* hint: use FileIndentification2\n",
    "\n",
    "<font color='red'> _______ ________ _________ _______________ </font>"
   ]
  },
  {
   "cell_type": "code",
   "execution_count": 6,
   "metadata": {},
   "outputs": [],
   "source": [
    "# Load data for a specific user and display some rows \n",
    "# ???"
   ]
  },
  {
   "cell_type": "markdown",
   "metadata": {},
   "source": [
    "<font color='blue'>\n",
    "\n",
    "### We can define a functions  that will read data from a file by hard coding the path if the directory structure is fixed for our application.\n",
    "\n",
    "#### For example we can define a function  that will read data from a file by specifying value for  User and the name of the file\n",
    "\n",
    "#### C) Run the given code:\n",
    "* Execute the function readDataFromFile() definition \n",
    "* and the function readDataFromFile() call for User 121 file 1   </font>"
   ]
  },
  {
   "cell_type": "code",
   "execution_count": 7,
   "metadata": {},
   "outputs": [],
   "source": [
    "#Loads data from a file from a specific user in the directory  \n",
    "def readDataFromFile(fileName):\n",
    "#    path = './Geolife_Trajectories_1.3/data/121/Trajectory/'  - correct it\n",
    "    FileIdentification = path + fileName\n",
    "    print(FileIdentification)\n",
    "    dataframe = pd.read_csv(FileIdentification)\n",
    "    return(dataframe)"
   ]
  },
  {
   "cell_type": "code",
   "execution_count": 8,
   "metadata": {},
   "outputs": [],
   "source": [
    "# ???"
   ]
  },
  {
   "cell_type": "markdown",
   "metadata": {},
   "source": [
    "#### D) Apply in typical situations:\n",
    "3.6. Write the code to load the second file of user 121 into a new dataframe called Points_User121_File2 using the function readDataFromFile\n",
    "\n",
    "<font color='red'> _______ ________ _________ _______________ </font>"
   ]
  },
  {
   "cell_type": "code",
   "execution_count": 9,
   "metadata": {},
   "outputs": [],
   "source": [
    "# ???"
   ]
  },
  {
   "cell_type": "markdown",
   "metadata": {},
   "source": [
    "# Task 4: Saving Tables (Pandas Dataframes) into csv files \n",
    "\n",
    "<font color='blue'>\n",
    "\n",
    "#### A) General Information: \n",
    "* The \"pandas\" library will have various functions to process Dataframes\n",
    "\n",
    "\n",
    "#### B) Specific Information: \n",
    "* Another  important function in the \"pandas\" libary is \"to_csv()\"\n",
    "* This function uploads a table  or \"pandas\" dataframe into a csv text file in the current directory.\n",
    "\n",
    "#### C) Remove comment character and Run the given code: </font>\n"
   ]
  },
  {
   "cell_type": "code",
   "execution_count": 1,
   "metadata": {},
   "outputs": [
    {
     "ename": "NameError",
     "evalue": "name 'Points_User121_File1' is not defined",
     "output_type": "error",
     "traceback": [
      "\u001b[0;31m---------------------------------------------------------------------------\u001b[0m",
      "\u001b[0;31mNameError\u001b[0m                                 Traceback (most recent call last)",
      "Cell \u001b[0;32mIn[1], line 1\u001b[0m\n\u001b[0;32m----> 1\u001b[0m \u001b[43mPoints_User121_File1\u001b[49m\u001b[38;5;241m.\u001b[39mto_csv(\u001b[38;5;124m'\u001b[39m\u001b[38;5;124mPoints_User121_File1\u001b[39m\u001b[38;5;124m'\u001b[39m, index\u001b[38;5;241m=\u001b[39m\u001b[38;5;28;01mFalse\u001b[39;00m) \u001b[38;5;66;03m#saves file as csv to the current working directory \u001b[39;00m\n\u001b[1;32m      2\u001b[0m Points_User121_File2\u001b[38;5;241m.\u001b[39mto_csv(\u001b[38;5;124m'\u001b[39m\u001b[38;5;124mPoints_User121_File2\u001b[39m\u001b[38;5;124m'\u001b[39m, index\u001b[38;5;241m=\u001b[39m\u001b[38;5;28;01mFalse\u001b[39;00m) \u001b[38;5;66;03m#saves file as csv to the current working directory \u001b[39;00m\n",
      "\u001b[0;31mNameError\u001b[0m: name 'Points_User121_File1' is not defined"
     ]
    }
   ],
   "source": [
    "Points_User121_File1.to_csv('Points_User121_File1', index=False) #saves file as csv to the current working directory \n",
    "Points_User121_File2.to_csv('Points_User121_File2', index=False) #saves file as csv to the current working directory "
   ]
  },
  {
   "cell_type": "markdown",
   "metadata": {},
   "source": [
    "#### F) Output Understanding:\n",
    "\n",
    "4.1. What is the output for executing the above code?\n",
    "\n",
    "<font color='red'> _______ ________ _________ _______________ </font> \n",
    "_________________________________\n",
    "\n",
    "#### G) Concept Understanding:\n",
    "\n",
    "4.2. What are the specific results for executing the above code?\n",
    "\n",
    "<font color='red'> _______ ________ _________ _______________ </font> \n",
    "_________________________________\n",
    "\n",
    "4.3. Where can the new csv file) be found at?\n",
    "\n",
    "<font color='red'> _______ ________ _________ _______________ </font> \n",
    "_________________________________\n",
    "\n",
    "#### H) Code Understanding: \n",
    "\n",
    "4.4. What \"pandas\" function was used to write the dataframe into a csv file?\n",
    "\n",
    "<font color='red'> _______ ________ _________ _______________ </font> \n",
    "_________________________________\n",
    "\n",
    "#### I) Write a code/apply in typical situations:\n",
    "\n",
    "4.5. What are two ways to check if the data was saved correctly as a csv file Points_User121_File1 in the current working directory?\n",
    "\n",
    "<font color='red'>  A. _______ ________ _________ _______________ </font>   \n",
    "\n",
    "    \n",
    "<font color='red'> B. _______ ________ _________ _______________ </font>    "
   ]
  },
  {
   "cell_type": "code",
   "execution_count": 11,
   "metadata": {},
   "outputs": [],
   "source": [
    "# code to check if the first csv file was created correctly\n",
    " "
   ]
  },
  {
   "cell_type": "markdown",
   "metadata": {},
   "source": [
    "#### F) Output Understanding:\n",
    "\n",
    "4.6. Is the number of rows the same in the initial and temp1 dataframes?\n",
    "\n",
    "<font color='red'> _______ ________ _________ _______________ </font> \n",
    "_________________________________"
   ]
  },
  {
   "cell_type": "code",
   "execution_count": 12,
   "metadata": {},
   "outputs": [],
   "source": [
    "# code to check if the second csv file was created correctly\n",
    "# ???"
   ]
  },
  {
   "cell_type": "markdown",
   "metadata": {},
   "source": [
    "#### F) Output Understanding:\n",
    "\n",
    "4.7. Is the number of rows the same in the initial and temp2 dataframes?\n",
    "\n",
    "<font color='red'> _______ ________ _________ _______________ </font> \n",
    "_________________________________"
   ]
  }
 ],
 "metadata": {
  "kernelspec": {
   "display_name": "Python 3 (ipykernel)",
   "language": "python",
   "name": "python3"
  },
  "language_info": {
   "codemirror_mode": {
    "name": "ipython",
    "version": 3
   },
   "file_extension": ".py",
   "mimetype": "text/x-python",
   "name": "python",
   "nbconvert_exporter": "python",
   "pygments_lexer": "ipython3",
   "version": "3.10.12"
  }
 },
 "nbformat": 4,
 "nbformat_minor": 4
}

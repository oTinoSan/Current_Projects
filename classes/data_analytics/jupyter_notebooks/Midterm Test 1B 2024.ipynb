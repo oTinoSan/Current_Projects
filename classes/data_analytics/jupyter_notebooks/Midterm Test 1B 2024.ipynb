{
 "cells": [
  {
   "attachments": {},
   "cell_type": "markdown",
   "metadata": {},
   "source": [
    "#  Midterm TEST 1B 2024 \n",
    "## Name <font color='red'> Santino Sini </font>\n",
    "## Date <font color='red'> 3/6/2024 </font>\n",
    "## Course<font color='red'> CSC305 CSC405 </font>\n",
    "## Run the given code when requested, provide code when requested in the code cells, and answer questions inserting responses in appropriate place (red font or ?)\n",
    "\n",
    "\n",
    "# Available Information about Data:\n",
    "* Process trajectory data recorded as GPS trace\n",
    "* Real data sets recorded by people carrying GPS enabled devices\n",
    "* Data available over multiple years for people traveling in different modes like walking, riding bus etc.\n",
    "* Most important part of data is latitude, longitude sequence with timestamp for each pair (forms trajectory data)\n",
    "* Several interesting problems in Activity Monitoring are naturally related to such data sets  \n",
    "\n",
    "* A smaller data set named \"MysteriousData2\" is provided along with this notebook\n",
    "\n",
    "# Task 2:  Libraries\n"
   ]
  },
  {
   "cell_type": "code",
   "execution_count": 1,
   "metadata": {},
   "outputs": [],
   "source": [
    "import pandas as pd  #imports the \"pandas\" library\n",
    "import sqlite3"
   ]
  },
  {
   "cell_type": "markdown",
   "metadata": {},
   "source": [
    "\n",
    "\n",
    "1. Why do we need the \"sqlite3\" library?\n",
    "\n",
    "<font color='red'> We use that to create and modify the SQ Lite database. </font>\n",
    "_________________________________\n",
    "\n",
    "\n",
    "\n",
    "2. Very often we also import the \"os\" library to make file access and manipulation easier\n",
    "\n",
    "Write the code to import \"os\" library into the next cell and run it.\n"
   ]
  },
  {
   "cell_type": "code",
   "execution_count": 2,
   "metadata": {},
   "outputs": [],
   "source": [
    "import os"
   ]
  },
  {
   "cell_type": "markdown",
   "metadata": {},
   "source": [
    "# Task 2:  Identifying a File in a Hierarchical Directory, Creating a Database and Loading csv files into Tables (Database Tables) \n",
    "\n",
    "Steps :\n",
    "* Choose the first file from two csv files for user 121\n",
    "* Store file name as string \n",
    "* Construct as a string the full path to this file in the directory hierarchy \n",
    "* Specify file identification as a string by concatenating the path with file name\n",
    "* create database\n",
    "* load content of the file 1 into database table  'Points_User121_Table1'\n",
    "\n",
    "### Construct and Run the appropriate  code:"
   ]
  },
  {
   "cell_type": "code",
   "execution_count": 3,
   "metadata": {},
   "outputs": [
    {
     "data": {
      "text/plain": [
       "569"
      ]
     },
     "execution_count": 3,
     "metadata": {},
     "output_type": "execute_result"
    }
   ],
   "source": [
    "# ?\n",
    "fileName1 = '200910051028v2.csv'\n",
    "path = './MysteriousData2/121/'\n",
    "FileIdentification1 = os.path.join(path, fileName1)\n",
    "Points_User121_Table1 = pd.read_csv(FileIdentification1)\n",
    "\n",
    "conn = sqlite3.connect('geolife.db')\n",
    "\n",
    "Points_User121_Table1.to_sql('Points_User121_Table1', conn, if_exists='replace', index=False)\n"
   ]
  },
  {
   "cell_type": "markdown",
   "metadata": {},
   "source": [
    "#### F) Generalizations\n",
    "\n"
   ]
  },
  {
   "cell_type": "markdown",
   "metadata": {},
   "source": [
    "# Task 3: Reading Content from Tables (Database Tables) \n",
    "\n",
    "\n",
    "\n",
    "#### C) Create and run the appropriate code read and display first 5 rows of the table Points_User120_Table1 "
   ]
  },
  {
   "cell_type": "code",
   "execution_count": 4,
   "metadata": {
    "scrolled": true
   },
   "outputs": [
    {
     "name": "stdout",
     "output_type": "stream",
     "text": [
      "   Order   Latitude   Longitude  Unused     Date      Time\n",
      "0      0  39.180741  117.143490       0  10/5/09  10:28:28\n",
      "1      1  39.180634  117.143428       0  10/5/09  10:28:33\n",
      "2      2  39.180551  117.143343       0  10/5/09  10:28:38\n",
      "3      3  39.180478  117.143261       0  10/5/09  10:28:43\n",
      "4      4  39.180337  117.143144       0  10/5/09  10:28:48\n"
     ]
    }
   ],
   "source": [
    "#?\n",
    "Points_User121_Table1.head\n",
    "\n",
    "#or\n",
    "\n",
    "query = \"SELECT * FROM Points_User121_Table1 LIMIT 5\"\n",
    "first_five_rows = pd.read_sql_query(query, conn)\n",
    "\n",
    "# Display the first 5 rows\n",
    "print(first_five_rows)"
   ]
  },
  {
   "cell_type": "markdown",
   "metadata": {},
   "source": [
    "#### D) Output Understanding:\n",
    "\n",
    "3.1. What are column names?\n",
    "\n",
    "<font color='red'> Order, Latitude, Longitude, Unused, Date, Time </font>\n",
    "_________________________________\n",
    "\n",
    "3.2 \n",
    "* load content of the file 2 into database table  'Points_User121_Table2'"
   ]
  },
  {
   "cell_type": "code",
   "execution_count": 5,
   "metadata": {},
   "outputs": [
    {
     "data": {
      "text/plain": [
       "2456"
      ]
     },
     "execution_count": 5,
     "metadata": {},
     "output_type": "execute_result"
    }
   ],
   "source": [
    "# ?\n",
    "fileName2 = '200910111153v2.csv'\n",
    "path = './MysteriousData2/121/'\n",
    "FileIdentification2 = os.path.join(path, fileName2)\n",
    "Points_User121_Table2 = pd.read_csv(FileIdentification2)\n",
    "\n",
    "conn = sqlite3.connect('geolife.db')\n",
    "\n",
    "Points_User121_Table2.to_sql('Points_User121_Table2', conn, if_exists='replace', index=False)"
   ]
  },
  {
   "cell_type": "markdown",
   "metadata": {},
   "source": [
    "# Task 4: Selecting Columns\n",
    "\n",
    "* Create and run the appropriate code to select first two columns from the table 'Points_User121_Table2' and display first 5 rows of the result "
   ]
  },
  {
   "cell_type": "code",
   "execution_count": 6,
   "metadata": {},
   "outputs": [
    {
     "name": "stdout",
     "output_type": "stream",
     "text": [
      "    Latitude   Longitude\n",
      "0  39.980956  116.329595\n",
      "1  39.980913  116.329603\n",
      "2  39.980920  116.329612\n",
      "3  39.980929  116.329621\n",
      "4  39.980929  116.329621\n"
     ]
    }
   ],
   "source": [
    "# ?\n",
    "first_two_columns = Points_User121_Table2.iloc[:, :2]\n",
    "\n",
    "#or\n",
    "\n",
    "query = \"SELECT Latitude, Longitude FROM Points_User121_Table2 LIMIT 5\"\n",
    "result = pd.read_sql_query(query, conn)\n",
    "\n",
    "print(result)"
   ]
  },
  {
   "cell_type": "markdown",
   "metadata": {},
   "source": [
    "\n"
   ]
  },
  {
   "cell_type": "markdown",
   "metadata": {},
   "source": [
    "# Task 5: Data Aggregations\n",
    "\n",
    "5.1.  Create and run the appropriate code to count rows in 'Points_User121_Table1' and diplay the resulting number"
   ]
  },
  {
   "cell_type": "code",
   "execution_count": 7,
   "metadata": {},
   "outputs": [
    {
     "name": "stdout",
     "output_type": "stream",
     "text": [
      "   COUNT(*)\n",
      "0       569\n"
     ]
    }
   ],
   "source": [
    "# ?\n",
    "Points_User121_Table1.shape[0]\n",
    "\n",
    "#or\n",
    "\n",
    "query = \"SELECT COUNT(*) FROM Points_User121_Table1\"\n",
    "num_rows = pd.read_sql_query(query, conn)\n",
    "\n",
    "print(num_rows)"
   ]
  },
  {
   "cell_type": "markdown",
   "metadata": {},
   "source": [
    "* Create and run the appropriate code to select to compute minimum value of lattitude in  the table 'Points_User121_Table2' and display first 5 rows of the result "
   ]
  },
  {
   "cell_type": "code",
   "execution_count": 8,
   "metadata": {},
   "outputs": [
    {
     "name": "stdout",
     "output_type": "stream",
     "text": [
      "   Min_Latitude\n",
      "0     39.902494\n",
      "   Order   Latitude   Longitude  Unused      Date      Time\n",
      "0   1183  39.902494  116.391761       0  10/11/09  14:29:24\n",
      "1   1184  39.902494  116.391761       0  10/11/09  14:29:27\n",
      "2   1187  39.902497  116.391708       0  10/11/09  14:29:39\n",
      "3   1185  39.902498  116.391756       0  10/11/09  14:29:29\n",
      "4   1186  39.902507  116.391726       0  10/11/09  14:29:34\n"
     ]
    }
   ],
   "source": [
    "query = \"SELECT MIN(Latitude) as Min_Latitude FROM Points_User121_Table2\"\n",
    "min_latitude = pd.read_sql_query(query, conn)\n",
    "\n",
    "print(min_latitude)\n",
    "\n",
    "#and\n",
    "\n",
    "query = \"SELECT * FROM Points_User121_Table2 ORDER BY Latitude ASC LIMIT 5\"\n",
    "sorted_rows = pd.read_sql_query(query, conn)\n",
    "\n",
    "print(sorted_rows)\n"
   ]
  },
  {
   "cell_type": "markdown",
   "metadata": {},
   "source": [
    "# Task 6: Selecting Rows\n",
    "\n",
    "* Create and run the appropriate code to select the rows with the values of the attribute \"Order\" BETWEEN 0 AND 2  in  the table 'Points_User121_Table1' and display them"
   ]
  },
  {
   "cell_type": "code",
   "execution_count": 9,
   "metadata": {},
   "outputs": [
    {
     "name": "stdout",
     "output_type": "stream",
     "text": [
      "   Order   Latitude   Longitude  Unused     Date      Time\n",
      "0      0  39.180741  117.143490       0  10/5/09  10:28:28\n",
      "1      1  39.180634  117.143428       0  10/5/09  10:28:33\n",
      "2      2  39.180551  117.143343       0  10/5/09  10:28:38\n"
     ]
    }
   ],
   "source": [
    "# ?\n",
    "query = \"SELECT * FROM Points_User121_Table1 WHERE `Order` BETWEEN 0 AND 2\"\n",
    "selected_rows = pd.read_sql_query(query, conn)\n",
    "\n",
    "print(selected_rows)"
   ]
  },
  {
   "cell_type": "markdown",
   "metadata": {},
   "source": [
    "* Create and run the appropriate code to select the rows with the values of the attribute \"Latitude\" > 42.4' or \"Latitude\" < 41.4'  in  the table 'Points_User121_Table1' and display such rows"
   ]
  },
  {
   "cell_type": "code",
   "execution_count": 10,
   "metadata": {},
   "outputs": [
    {
     "name": "stdout",
     "output_type": "stream",
     "text": [
      "     Order   Latitude   Longitude  Unused     Date      Time\n",
      "0        0  39.180741  117.143490       0  10/5/09  10:28:28\n",
      "1        1  39.180634  117.143428       0  10/5/09  10:28:33\n",
      "2        2  39.180551  117.143343       0  10/5/09  10:28:38\n",
      "3        3  39.180478  117.143261       0  10/5/09  10:28:43\n",
      "4        4  39.180337  117.143144       0  10/5/09  10:28:48\n",
      "..     ...        ...         ...     ...      ...       ...\n",
      "564    564  39.181190  117.143998       0  10/5/09  11:58:42\n",
      "565    565  39.181147  117.144037       0  10/5/09  11:58:47\n",
      "566    566  39.181153  117.144059       0  10/5/09  11:58:52\n",
      "567    567  39.181115  117.144096       0  10/5/09  11:58:57\n",
      "568    568  39.181031  117.144189       0  10/5/09  11:59:02\n",
      "\n",
      "[569 rows x 6 columns]\n"
     ]
    }
   ],
   "source": [
    "# ?\n",
    "query = \"SELECT * FROM Points_User121_Table1 WHERE Latitude > 42.4 OR Latitude < 41.4\"\n",
    "selected_rows = pd.read_sql_query(query, conn)\n",
    "\n",
    "print(selected_rows)"
   ]
  },
  {
   "cell_type": "markdown",
   "metadata": {},
   "source": [
    "#### D) Output Understanding:\n",
    "\n",
    "7.1. How many rows were selected?\n",
    "\n",
    "<font color='red'> 569 </font>\n",
    "_____________________________\n",
    "\n"
   ]
  },
  {
   "cell_type": "code",
   "execution_count": null,
   "metadata": {},
   "outputs": [],
   "source": []
  }
 ],
 "metadata": {
  "kernelspec": {
   "display_name": "Python 3 (ipykernel)",
   "language": "python",
   "name": "python3"
  },
  "language_info": {
   "codemirror_mode": {
    "name": "ipython",
    "version": 3
   },
   "file_extension": ".py",
   "mimetype": "text/x-python",
   "name": "python",
   "nbconvert_exporter": "python",
   "pygments_lexer": "ipython3",
   "version": "3.10.12"
  }
 },
 "nbformat": 4,
 "nbformat_minor": 4
}
